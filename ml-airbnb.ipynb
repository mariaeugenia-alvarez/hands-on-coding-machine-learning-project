{
 "cells": [
  {
   "cell_type": "markdown",
   "id": "b24a07e2",
   "metadata": {},
   "source": [
    "## 1. Carga de datos\n"
   ]
  },
  {
   "cell_type": "code",
   "execution_count": 4,
   "id": "fd691043",
   "metadata": {},
   "outputs": [],
   "source": [
    "import numpy  as np  \n",
    "import pandas as pd"
   ]
  },
  {
   "cell_type": "code",
   "execution_count": 5,
   "id": "4f740b46",
   "metadata": {},
   "outputs": [
    {
     "name": "stdout",
     "output_type": "stream",
     "text": [
      "(14780, 89)\n"
     ]
    },
    {
     "data": {
      "text/html": [
       "<div>\n",
       "<style scoped>\n",
       "    .dataframe tbody tr th:only-of-type {\n",
       "        vertical-align: middle;\n",
       "    }\n",
       "\n",
       "    .dataframe tbody tr th {\n",
       "        vertical-align: top;\n",
       "    }\n",
       "\n",
       "    .dataframe thead th {\n",
       "        text-align: right;\n",
       "    }\n",
       "</style>\n",
       "<table border=\"1\" class=\"dataframe\">\n",
       "  <thead>\n",
       "    <tr style=\"text-align: right;\">\n",
       "      <th></th>\n",
       "      <th>0</th>\n",
       "      <th>1</th>\n",
       "      <th>2</th>\n",
       "      <th>3</th>\n",
       "      <th>4</th>\n",
       "    </tr>\n",
       "  </thead>\n",
       "  <tbody>\n",
       "    <tr>\n",
       "      <th>ID</th>\n",
       "      <td>11210388</td>\n",
       "      <td>17471131</td>\n",
       "      <td>17584891</td>\n",
       "      <td>5398030</td>\n",
       "      <td>18104606</td>\n",
       "    </tr>\n",
       "    <tr>\n",
       "      <th>Listing Url</th>\n",
       "      <td>https://www.airbnb.com/rooms/11210388</td>\n",
       "      <td>https://www.airbnb.com/rooms/17471131</td>\n",
       "      <td>https://www.airbnb.com/rooms/17584891</td>\n",
       "      <td>https://www.airbnb.com/rooms/5398030</td>\n",
       "      <td>https://www.airbnb.com/rooms/18104606</td>\n",
       "    </tr>\n",
       "    <tr>\n",
       "      <th>Scrape ID</th>\n",
       "      <td>20170306202425</td>\n",
       "      <td>20170407214050</td>\n",
       "      <td>20170407214050</td>\n",
       "      <td>20170407214050</td>\n",
       "      <td>20170407214050</td>\n",
       "    </tr>\n",
       "    <tr>\n",
       "      <th>Last Scraped</th>\n",
       "      <td>2017-03-07</td>\n",
       "      <td>2017-04-08</td>\n",
       "      <td>2017-04-08</td>\n",
       "      <td>2017-04-08</td>\n",
       "      <td>2017-04-08</td>\n",
       "    </tr>\n",
       "    <tr>\n",
       "      <th>Name</th>\n",
       "      <td>The Loft-Full Bath-Deck w/View</td>\n",
       "      <td>Claris I, Friendly Rentals</td>\n",
       "      <td>Style Terrace Red, Friendly Rentals</td>\n",
       "      <td>Picasso Suite 1.4 Paseo de Gracia</td>\n",
       "      <td>Smart City Centre Apartment II</td>\n",
       "    </tr>\n",
       "    <tr>\n",
       "      <th>...</th>\n",
       "      <td>...</td>\n",
       "      <td>...</td>\n",
       "      <td>...</td>\n",
       "      <td>...</td>\n",
       "      <td>...</td>\n",
       "    </tr>\n",
       "    <tr>\n",
       "      <th>Cancellation Policy</th>\n",
       "      <td>moderate</td>\n",
       "      <td>super_strict_30</td>\n",
       "      <td>super_strict_30</td>\n",
       "      <td>strict</td>\n",
       "      <td>flexible</td>\n",
       "    </tr>\n",
       "    <tr>\n",
       "      <th>Calculated host listings count</th>\n",
       "      <td>1.0</td>\n",
       "      <td>106.0</td>\n",
       "      <td>106.0</td>\n",
       "      <td>24.0</td>\n",
       "      <td>92.0</td>\n",
       "    </tr>\n",
       "    <tr>\n",
       "      <th>Reviews per Month</th>\n",
       "      <td>3.5</td>\n",
       "      <td>0.86</td>\n",
       "      <td>NaN</td>\n",
       "      <td>1.09</td>\n",
       "      <td>NaN</td>\n",
       "    </tr>\n",
       "    <tr>\n",
       "      <th>Geolocation</th>\n",
       "      <td>30.3373609355,-97.8632766782</td>\n",
       "      <td>41.3896829422,2.17262543017</td>\n",
       "      <td>41.3930345489,2.16217327868</td>\n",
       "      <td>41.3969668101,2.1674178103</td>\n",
       "      <td>41.3886851936,2.15514963616</td>\n",
       "    </tr>\n",
       "    <tr>\n",
       "      <th>Features</th>\n",
       "      <td>Host Is Superhost,Host Has Profile Pic,Host Id...</td>\n",
       "      <td>Host Has Profile Pic,Requires License,Instant ...</td>\n",
       "      <td>Host Has Profile Pic,Requires License,Instant ...</td>\n",
       "      <td>Host Has Profile Pic,Host Identity Verified,Re...</td>\n",
       "      <td>Host Has Profile Pic,Host Identity Verified,Is...</td>\n",
       "    </tr>\n",
       "  </tbody>\n",
       "</table>\n",
       "<p>89 rows × 5 columns</p>\n",
       "</div>"
      ],
      "text/plain": [
       "                                                                                0  \\\n",
       "ID                                                                       11210388   \n",
       "Listing Url                                 https://www.airbnb.com/rooms/11210388   \n",
       "Scrape ID                                                          20170306202425   \n",
       "Last Scraped                                                           2017-03-07   \n",
       "Name                                               The Loft-Full Bath-Deck w/View   \n",
       "...                                                                           ...   \n",
       "Cancellation Policy                                                      moderate   \n",
       "Calculated host listings count                                                1.0   \n",
       "Reviews per Month                                                             3.5   \n",
       "Geolocation                                          30.3373609355,-97.8632766782   \n",
       "Features                        Host Is Superhost,Host Has Profile Pic,Host Id...   \n",
       "\n",
       "                                                                                1  \\\n",
       "ID                                                                       17471131   \n",
       "Listing Url                                 https://www.airbnb.com/rooms/17471131   \n",
       "Scrape ID                                                          20170407214050   \n",
       "Last Scraped                                                           2017-04-08   \n",
       "Name                                                   Claris I, Friendly Rentals   \n",
       "...                                                                           ...   \n",
       "Cancellation Policy                                               super_strict_30   \n",
       "Calculated host listings count                                              106.0   \n",
       "Reviews per Month                                                            0.86   \n",
       "Geolocation                                           41.3896829422,2.17262543017   \n",
       "Features                        Host Has Profile Pic,Requires License,Instant ...   \n",
       "\n",
       "                                                                                2  \\\n",
       "ID                                                                       17584891   \n",
       "Listing Url                                 https://www.airbnb.com/rooms/17584891   \n",
       "Scrape ID                                                          20170407214050   \n",
       "Last Scraped                                                           2017-04-08   \n",
       "Name                                          Style Terrace Red, Friendly Rentals   \n",
       "...                                                                           ...   \n",
       "Cancellation Policy                                               super_strict_30   \n",
       "Calculated host listings count                                              106.0   \n",
       "Reviews per Month                                                             NaN   \n",
       "Geolocation                                           41.3930345489,2.16217327868   \n",
       "Features                        Host Has Profile Pic,Requires License,Instant ...   \n",
       "\n",
       "                                                                                3  \\\n",
       "ID                                                                        5398030   \n",
       "Listing Url                                  https://www.airbnb.com/rooms/5398030   \n",
       "Scrape ID                                                          20170407214050   \n",
       "Last Scraped                                                           2017-04-08   \n",
       "Name                                            Picasso Suite 1.4 Paseo de Gracia   \n",
       "...                                                                           ...   \n",
       "Cancellation Policy                                                        strict   \n",
       "Calculated host listings count                                               24.0   \n",
       "Reviews per Month                                                            1.09   \n",
       "Geolocation                                            41.3969668101,2.1674178103   \n",
       "Features                        Host Has Profile Pic,Host Identity Verified,Re...   \n",
       "\n",
       "                                                                                4  \n",
       "ID                                                                       18104606  \n",
       "Listing Url                                 https://www.airbnb.com/rooms/18104606  \n",
       "Scrape ID                                                          20170407214050  \n",
       "Last Scraped                                                           2017-04-08  \n",
       "Name                                               Smart City Centre Apartment II  \n",
       "...                                                                           ...  \n",
       "Cancellation Policy                                                      flexible  \n",
       "Calculated host listings count                                               92.0  \n",
       "Reviews per Month                                                             NaN  \n",
       "Geolocation                                           41.3886851936,2.15514963616  \n",
       "Features                        Host Has Profile Pic,Host Identity Verified,Is...  \n",
       "\n",
       "[89 rows x 5 columns]"
      ]
     },
     "execution_count": 5,
     "metadata": {},
     "output_type": "execute_result"
    }
   ],
   "source": [
    "raw_data = pd.read_csv(\"airbnb-listings-extract.csv\", sep=';')  # cargamos fichero\n",
    "print(raw_data.shape)\n",
    "raw_data.head(5).T  "
   ]
  },
  {
   "cell_type": "markdown",
   "id": "b48b9fe2",
   "metadata": {},
   "source": [
    "## 2. División de datos Train / Test\n",
    "#### Método `train_test_split` "
   ]
  },
  {
   "cell_type": "markdown",
   "id": "b51a103d",
   "metadata": {},
   "source": []
  },
  {
   "cell_type": "markdown",
   "id": "75c3ece4",
   "metadata": {},
   "source": [
    "## 3. Análisis exploratorio\n",
    "#### Miro los datos de Train para saber distribuciones estadisticas, outliers, correlaciones.\n",
    "- Eliminación de variables no relevantes para caso estudio\n",
    "- Head, describe...\n",
    "- Histogramas, scatterplots..\n",
    "- Matriz correlaciones entre variables\n",
    "- Método de filtrado: `f_reg, mutual_info_reg`"
   ]
  },
  {
   "cell_type": "markdown",
   "id": "cbfab4b3",
   "metadata": {},
   "source": [
    "## 4. Preprocesado datos Train\n",
    "#### Proceso datos de train en función de las conclusiones estadisticas\n",
    "- Eliminación por random forest/Lasso, muchos Nan, alta correlación..\n",
    "- Imputación de valores ausentes\n",
    "- Codificación variables categoricas\n",
    "- Generación y transformación de variables\n",
    "- Filtrado outliers"
   ]
  },
  {
   "cell_type": "markdown",
   "id": "73664190",
   "metadata": {},
   "source": [
    "## 5. Procesado datos Test\n",
    "#### Aplico las mismas transformaciones que en Train en el punto 5"
   ]
  },
  {
   "cell_type": "markdown",
   "id": "869523c5",
   "metadata": {},
   "source": [
    "## 6. Preparacion dataset Train / Test\n",
    "#### Normalizar Test según Train si aplica"
   ]
  },
  {
   "cell_type": "markdown",
   "id": "10847c84",
   "metadata": {},
   "source": [
    "## 7. Modelado\n",
    "#### Cross validation"
   ]
  },
  {
   "cell_type": "markdown",
   "id": "1bf78e0f",
   "metadata": {},
   "source": [
    "## 8. Evaluación"
   ]
  }
 ],
 "metadata": {
  "kernelspec": {
   "display_name": "keepcoding-ml",
   "language": "python",
   "name": "python3"
  },
  "language_info": {
   "codemirror_mode": {
    "name": "ipython",
    "version": 3
   },
   "file_extension": ".py",
   "mimetype": "text/x-python",
   "name": "python",
   "nbconvert_exporter": "python",
   "pygments_lexer": "ipython3",
   "version": "3.12.11"
  }
 },
 "nbformat": 4,
 "nbformat_minor": 5
}
