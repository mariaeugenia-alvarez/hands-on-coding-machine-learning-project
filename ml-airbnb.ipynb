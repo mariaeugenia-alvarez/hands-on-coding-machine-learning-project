{
 "cells": [
  {
   "cell_type": "markdown",
   "id": "b24a07e2",
   "metadata": {},
   "source": [
    "## 1. Carga de librerias necesarias\n"
   ]
  },
  {
   "cell_type": "markdown",
   "id": "b48b9fe2",
   "metadata": {},
   "source": [
    "## 2. División de datos Train / Test\n",
    "#### Método `train_test_split` "
   ]
  },
  {
   "cell_type": "markdown",
   "id": "75c3ece4",
   "metadata": {},
   "source": [
    "## 3. Análisis exploratorio\n",
    "#### Miro los datos de Train para saber distribuciones estadisticas, outliers, correlaciones.\n",
    "- Eliminación de variables no relevantes para caso estudio\n",
    "- Head, describe...\n",
    "- Histogramas, scatterplots..\n",
    "- Matriz correlaciones entre variables\n",
    "- Método de filtrado: `f_reg, mutual_info_reg`"
   ]
  },
  {
   "cell_type": "markdown",
   "id": "cbfab4b3",
   "metadata": {},
   "source": [
    "## 4. Preprocesado datos Train\n",
    "#### Proceso datos de train en función de las conclusiones estadisticas\n",
    "- Eliminación por random forest/Lasso, muchos Nan, alta correlación..\n",
    "- Imputación de valores ausentes\n",
    "- Codificación variables categoricas\n",
    "- Generación y transformación de variables\n",
    "- Filtrado outliers"
   ]
  },
  {
   "cell_type": "markdown",
   "id": "73664190",
   "metadata": {},
   "source": [
    "## 5. Procesado datos Test\n",
    "#### Aplico las mismas transformaciones que en Train en el punto 5"
   ]
  },
  {
   "cell_type": "markdown",
   "id": "869523c5",
   "metadata": {},
   "source": [
    "## 6. Preparacion dataset Train / Test\n",
    "#### Normalizar Test según Train si aplica"
   ]
  },
  {
   "cell_type": "markdown",
   "id": "10847c84",
   "metadata": {},
   "source": [
    "## 7. Modelado\n",
    "#### Cross validation"
   ]
  },
  {
   "cell_type": "markdown",
   "id": "1bf78e0f",
   "metadata": {},
   "source": [
    "## 8. Evaluación"
   ]
  }
 ],
 "metadata": {
  "language_info": {
   "name": "python"
  }
 },
 "nbformat": 4,
 "nbformat_minor": 5
}
